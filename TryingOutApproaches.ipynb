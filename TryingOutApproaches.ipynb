{
 "cells": [
  {
   "cell_type": "code",
   "execution_count": 1,
   "metadata": {},
   "outputs": [],
   "source": [
    "from Crypto import Random\n",
    "from Crypto.PublicKey import RSA\n",
    "import base64"
   ]
  },
  {
   "cell_type": "code",
   "execution_count": 183,
   "metadata": {},
   "outputs": [],
   "source": [
    "def toBase64(string):\n",
    "    return base64.b64encode(string)"
   ]
  },
  {
   "cell_type": "code",
   "execution_count": 11,
   "metadata": {},
   "outputs": [],
   "source": [
    "ori_key = RSA.generate(256*5,Random.new().read)"
   ]
  },
  {
   "cell_type": "code",
   "execution_count": 26,
   "metadata": {},
   "outputs": [
    {
     "data": {
      "text/plain": [
       "RsaKey(n=16509972091301062925048533241059454173341151383094110438103714968760381972099601444544077834301452243450061772173844353310663944806713596637684402329300693919919659358069063349141087322823656178572043599563385297696452444112798842329254007589845135234285833418101025450100603157546027295619422555804073192411418387683857919567465999623834089911185697465769866269173369859495307119992487, e=65537, d=7159519154596277039380492160320272328705243180303257986342181964572227225034265728579927247979725540669404390881191640158827369446370758753726760672577715202162392525692704584930492724943898993912725226519565234250397092959160112528072135522323576170780268079824441815982463742520784679387744935952443187269697840017579474100669783626154877837306680732879279187622808655815768179261633, p=4038598884436711732555296226927435949668626111651880720242730596025682737548193817644375599485533740402765184778469937963383056392573856859107850179525681254317531395577655894006461573865361449, q=4088044533198005487834038895536366541684123196932808883270780204698982170966859539690032332611878974205554185065451185303215927987439225058548801917816061517912815904888588692922836759322038863, u=1865738092902777342149334261561107332489807408946432637883024693120350801510838355613439988944128445382041144948480311216006301817588499177265746276093993446162985437753209860617248649949449820)"
      ]
     },
     "execution_count": 26,
     "metadata": {},
     "output_type": "execute_result"
    }
   ],
   "source": [
    "ori_key"
   ]
  },
  {
   "cell_type": "markdown",
   "metadata": {},
   "source": [
    "**Testing keys**"
   ]
  },
  {
   "cell_type": "code",
   "execution_count": 181,
   "metadata": {},
   "outputs": [],
   "source": [
    "from Crypto.Cipher import PKCS1_OAEP\n",
    "\n",
    "pub_key = PKCS1_OAEP.new(ori_key.public_key())\n",
    "encrypted = pub_key.encrypt(b'hey whatssup')\n"
   ]
  },
  {
   "cell_type": "code",
   "execution_count": 182,
   "metadata": {},
   "outputs": [
    {
     "data": {
      "text/plain": [
       "b'hey'"
      ]
     },
     "execution_count": 182,
     "metadata": {},
     "output_type": "execute_result"
    }
   ],
   "source": [
    "str.encode('hey')"
   ]
  },
  {
   "cell_type": "code",
   "execution_count": 85,
   "metadata": {},
   "outputs": [
    {
     "data": {
      "text/plain": [
       "b'hey whatssup'"
      ]
     },
     "execution_count": 85,
     "metadata": {},
     "output_type": "execute_result"
    }
   ],
   "source": [
    "prikey = PKCS1_OAEP.new(ori_key)\n",
    "prikey.decrypt(encrypted)"
   ]
  },
  {
   "cell_type": "markdown",
   "metadata": {},
   "source": [
    "**Sharding key**"
   ]
  },
  {
   "cell_type": "code",
   "execution_count": 187,
   "metadata": {},
   "outputs": [],
   "source": [
    "class Shard(RSA.RsaKey):\n",
    "    def __init__(self,x,n,d,e,q,p,u):\n",
    "        RSA.RsaKey.__init__(self,n=n,d=d,e=e,q=q,p=p,u=u)\n",
    "        self.x = x \n",
    "    def decode(self):\n",
    "        return super().decode(self)"
   ]
  },
  {
   "cell_type": "markdown",
   "metadata": {},
   "source": [
    "For 2 shards to be able to form the key, we must have all of the shards in a straight line that follows the rule of y=ax+b.\n",
    "In here, 'x' and 'b' will randomized; and 'a' will be the hidden values like d,q,p and u. The shards will be given 'x' and 'y'.\n",
    "2 Shards will be needed to compute 'a', which will be the needed attributes of the private key"
   ]
  },
  {
   "cell_type": "code",
   "execution_count": 44,
   "metadata": {},
   "outputs": [
    {
     "name": "stdout",
     "output_type": "stream",
     "text": [
      "The equations are:\n",
      "x1: a*973062 + 394297\n",
      "x2: a*961972 + 394297\n",
      "x3: a*651937 + 394297\n",
      "x4: a*842076 + 394297\n",
      "x5: a*61270 + 394297\n"
     ]
    }
   ],
   "source": [
    "#Determining the equation \n",
    "import random\n",
    "b = random.randint(1,1000000)\n",
    "#Getting a list of 5 random numbers from 1 to 100\n",
    "li = range(1,1000001)\n",
    "x = random.sample(li,5)\n",
    "#Printing equations:\n",
    "print(\"The equations are:\")\n",
    "for i in range(1,6):\n",
    "    print(\"x{:d}: a*{:d} + {:d}\".format(i,x[i-1],b))\n"
   ]
  },
  {
   "cell_type": "code",
   "execution_count": 161,
   "metadata": {},
   "outputs": [],
   "source": [
    "def sharding_linear(nums,private_key):\n",
    "    if isinstance(private_key,RSA.RsaKey):\n",
    "        b = random.randint(1,1000000)\n",
    "        li = range(1,1000001)\n",
    "        x = random.sample(li,nums)\n",
    "        list = []\n",
    "        for i in range(0,nums):\n",
    "            n = private_key.n\n",
    "            d = private_key.d * x[i] + b\n",
    "            e = private_key.e\n",
    "            q = private_key.q * x[i] + b \n",
    "            p = private_key.p * x[i] + b \n",
    "            u = private_key.u * x[i] + b \n",
    "            list.append(Shard(x=x[i],n=n,d=d,e=e,q=q,p=p,u=u))\n",
    "        return list \n",
    "    else:\n",
    "        print(\"Key is not RSA key\")\n",
    "\n",
    "    \n",
    "    "
   ]
  },
  {
   "cell_type": "code",
   "execution_count": 162,
   "metadata": {},
   "outputs": [
    {
     "data": {
      "text/plain": [
       "RsaKey(n=16509972091301062925048533241059454173341151383094110438103714968760381972099601444544077834301452243450061772173844353310663944806713596637684402329300693919919659358069063349141087322823656178572043599563385297696452444112798842329254007589845135234285833418101025450100603157546027295619422555804073192411418387683857919567465999623834089911185697465769866269173369859495307119992487, e=65537, d=664031082550495502848461886885384617942753894486766571717264692850144930667478077794331092395623584446005918445448762241450920861411995132890649598860237929570157581972946964843133339253096743887417439309236636346255829577776182116753634425424467042687528303867557329548741547191317737443854567319717200732889935265950461063888921091758612609654520024613087386093640257209600867150070937484, p=374571969333736139771038614455065829459865734603488633041072777320190022542119880198880548101084283354875665357833529806227851714298440075968534888450647884975442401877036428857311298052924456671852, q=379157954365048612985631439483206924008119058269124158305598322425421198392834288587171118785086551099616739556450466534502670888979013245730284280273604073663377849546606824091207263753660373465524, u=173043476640546792929666454091269582873764657564963734298374774237526296138527235806435332094590025052293552111681651904662152480977698121693043435615165704144724573380734708152528577785571484905360)"
      ]
     },
     "execution_count": 162,
     "metadata": {},
     "output_type": "execute_result"
    }
   ],
   "source": [
    "shards = sharding_linear(5,ori_key)\n",
    "shards[0]"
   ]
  },
  {
   "cell_type": "code",
   "execution_count": 189,
   "metadata": {},
   "outputs": [
    {
     "ename": "ValueError",
     "evalue": "No inverse value can be computed12",
     "output_type": "error",
     "traceback": [
      "\u001b[1;31m---------------------------------------------------------------------------\u001b[0m",
      "\u001b[1;31mValueError\u001b[0m                                Traceback (most recent call last)",
      "\u001b[1;32m~\\AppData\\Local\\Temp\\ipykernel_10260\\517995560.py\u001b[0m in \u001b[0;36m<module>\u001b[1;34m\u001b[0m\n\u001b[1;32m----> 1\u001b[1;33m \u001b[0mshards\u001b[0m\u001b[1;33m[\u001b[0m\u001b[1;36m2\u001b[0m\u001b[1;33m]\u001b[0m\u001b[1;33m.\u001b[0m\u001b[0mexport_key\u001b[0m\u001b[1;33m(\u001b[0m\u001b[1;33m)\u001b[0m\u001b[1;33m.\u001b[0m\u001b[0mdecode\u001b[0m\u001b[1;33m(\u001b[0m\u001b[1;33m)\u001b[0m\u001b[1;33m\u001b[0m\u001b[1;33m\u001b[0m\u001b[0m\n\u001b[0m",
      "\u001b[1;32mc:\\Users\\lekha\\Anaconda3\\lib\\site-packages\\Crypto\\PublicKey\\RSA.py\u001b[0m in \u001b[0;36mexport_key\u001b[1;34m(self, format, passphrase, pkcs, protection, randfunc)\u001b[0m\n\u001b[0;32m    329\u001b[0m                                       \u001b[0mself\u001b[0m\u001b[1;33m.\u001b[0m\u001b[0md\u001b[0m \u001b[1;33m%\u001b[0m \u001b[1;33m(\u001b[0m\u001b[0mself\u001b[0m\u001b[1;33m.\u001b[0m\u001b[0mp\u001b[0m\u001b[1;33m-\u001b[0m\u001b[1;36m1\u001b[0m\u001b[1;33m)\u001b[0m\u001b[1;33m,\u001b[0m\u001b[1;33m\u001b[0m\u001b[1;33m\u001b[0m\u001b[0m\n\u001b[0;32m    330\u001b[0m                                       \u001b[0mself\u001b[0m\u001b[1;33m.\u001b[0m\u001b[0md\u001b[0m \u001b[1;33m%\u001b[0m \u001b[1;33m(\u001b[0m\u001b[0mself\u001b[0m\u001b[1;33m.\u001b[0m\u001b[0mq\u001b[0m\u001b[1;33m-\u001b[0m\u001b[1;36m1\u001b[0m\u001b[1;33m)\u001b[0m\u001b[1;33m,\u001b[0m\u001b[1;33m\u001b[0m\u001b[1;33m\u001b[0m\u001b[0m\n\u001b[1;32m--> 331\u001b[1;33m                                       \u001b[0mInteger\u001b[0m\u001b[1;33m(\u001b[0m\u001b[0mself\u001b[0m\u001b[1;33m.\u001b[0m\u001b[0mq\u001b[0m\u001b[1;33m)\u001b[0m\u001b[1;33m.\u001b[0m\u001b[0minverse\u001b[0m\u001b[1;33m(\u001b[0m\u001b[0mself\u001b[0m\u001b[1;33m.\u001b[0m\u001b[0mp\u001b[0m\u001b[1;33m)\u001b[0m\u001b[1;33m\u001b[0m\u001b[1;33m\u001b[0m\u001b[0m\n\u001b[0m\u001b[0;32m    332\u001b[0m                                       ]).encode()\n\u001b[0;32m    333\u001b[0m             \u001b[1;32mif\u001b[0m \u001b[0mpkcs\u001b[0m \u001b[1;33m==\u001b[0m \u001b[1;36m1\u001b[0m\u001b[1;33m:\u001b[0m\u001b[1;33m\u001b[0m\u001b[1;33m\u001b[0m\u001b[0m\n",
      "\u001b[1;32mc:\\Users\\lekha\\Anaconda3\\lib\\site-packages\\Crypto\\Math\\_IntegerNative.py\u001b[0m in \u001b[0;36minverse\u001b[1;34m(self, modulus)\u001b[0m\n\u001b[0;32m    339\u001b[0m     \u001b[1;32mdef\u001b[0m \u001b[0minverse\u001b[0m\u001b[1;33m(\u001b[0m\u001b[0mself\u001b[0m\u001b[1;33m,\u001b[0m \u001b[0mmodulus\u001b[0m\u001b[1;33m)\u001b[0m\u001b[1;33m:\u001b[0m\u001b[1;33m\u001b[0m\u001b[1;33m\u001b[0m\u001b[0m\n\u001b[0;32m    340\u001b[0m         \u001b[0mresult\u001b[0m \u001b[1;33m=\u001b[0m \u001b[0mself\u001b[0m\u001b[1;33m.\u001b[0m\u001b[0m__class__\u001b[0m\u001b[1;33m(\u001b[0m\u001b[0mself\u001b[0m\u001b[1;33m)\u001b[0m\u001b[1;33m\u001b[0m\u001b[1;33m\u001b[0m\u001b[0m\n\u001b[1;32m--> 341\u001b[1;33m         \u001b[0mresult\u001b[0m\u001b[1;33m.\u001b[0m\u001b[0minplace_inverse\u001b[0m\u001b[1;33m(\u001b[0m\u001b[0mmodulus\u001b[0m\u001b[1;33m)\u001b[0m\u001b[1;33m\u001b[0m\u001b[1;33m\u001b[0m\u001b[0m\n\u001b[0m\u001b[0;32m    342\u001b[0m         \u001b[1;32mreturn\u001b[0m \u001b[0mresult\u001b[0m\u001b[1;33m\u001b[0m\u001b[1;33m\u001b[0m\u001b[0m\n\u001b[0;32m    343\u001b[0m \u001b[1;33m\u001b[0m\u001b[0m\n",
      "\u001b[1;32mc:\\Users\\lekha\\Anaconda3\\lib\\site-packages\\Crypto\\Math\\_IntegerNative.py\u001b[0m in \u001b[0;36minplace_inverse\u001b[1;34m(self, modulus)\u001b[0m\n\u001b[0;32m    331\u001b[0m             \u001b[0ms_p\u001b[0m\u001b[1;33m,\u001b[0m \u001b[0ms_n\u001b[0m \u001b[1;33m=\u001b[0m \u001b[0ms_n\u001b[0m\u001b[1;33m,\u001b[0m \u001b[0ms_p\u001b[0m \u001b[1;33m-\u001b[0m \u001b[0mq\u001b[0m \u001b[1;33m*\u001b[0m \u001b[0ms_n\u001b[0m\u001b[1;33m\u001b[0m\u001b[1;33m\u001b[0m\u001b[0m\n\u001b[0;32m    332\u001b[0m         \u001b[1;32mif\u001b[0m \u001b[0mr_p\u001b[0m \u001b[1;33m!=\u001b[0m \u001b[1;36m1\u001b[0m\u001b[1;33m:\u001b[0m\u001b[1;33m\u001b[0m\u001b[1;33m\u001b[0m\u001b[0m\n\u001b[1;32m--> 333\u001b[1;33m             \u001b[1;32mraise\u001b[0m \u001b[0mValueError\u001b[0m\u001b[1;33m(\u001b[0m\u001b[1;34m\"No inverse value can be computed\"\u001b[0m \u001b[1;33m+\u001b[0m \u001b[0mstr\u001b[0m\u001b[1;33m(\u001b[0m\u001b[0mr_p\u001b[0m\u001b[1;33m)\u001b[0m\u001b[1;33m)\u001b[0m\u001b[1;33m\u001b[0m\u001b[1;33m\u001b[0m\u001b[0m\n\u001b[0m\u001b[0;32m    334\u001b[0m         \u001b[1;32mwhile\u001b[0m \u001b[0ms_p\u001b[0m \u001b[1;33m<\u001b[0m \u001b[1;36m0\u001b[0m\u001b[1;33m:\u001b[0m\u001b[1;33m\u001b[0m\u001b[1;33m\u001b[0m\u001b[0m\n\u001b[0;32m    335\u001b[0m             \u001b[0ms_p\u001b[0m \u001b[1;33m+=\u001b[0m \u001b[0mmodulus\u001b[0m\u001b[1;33m\u001b[0m\u001b[1;33m\u001b[0m\u001b[0m\n",
      "\u001b[1;31mValueError\u001b[0m: No inverse value can be computed12"
     ]
    }
   ],
   "source": [
    "shards[2]"
   ]
  },
  {
   "cell_type": "code",
   "execution_count": 164,
   "metadata": {},
   "outputs": [
    {
     "data": {
      "text/plain": [
       "int"
      ]
     },
     "execution_count": 164,
     "metadata": {},
     "output_type": "execute_result"
    }
   ],
   "source": [
    "type(shards[0].x)"
   ]
  },
  {
   "cell_type": "markdown",
   "metadata": {},
   "source": [
    "**Combining shards to find key**"
   ]
  },
  {
   "cell_type": "code",
   "execution_count": 172,
   "metadata": {},
   "outputs": [],
   "source": [
    "def combine_linear_shards(shard1,shard2):\n",
    "    #Solving linear equation\n",
    "    d_difference = shard1.d-shard2.d\n",
    "    q_difference = shard1.q - shard2.q\n",
    "    p_difference = shard1.p - shard2.p\n",
    "    u_difference = shard1.u - shard2.u\n",
    "    x_difference = shard1.x-shard2.x\n",
    "    d = d_difference // x_difference\n",
    "    q = q_difference // x_difference\n",
    "    p = p_difference // x_difference\n",
    "    u = u_difference // x_difference\n",
    "    \n",
    "    return RSA.RsaKey(d=d,n=shard1.n,e=shard1.e,q=q,p=p,u=u)\n",
    "    \n",
    "    "
   ]
  },
  {
   "cell_type": "code",
   "execution_count": 174,
   "metadata": {},
   "outputs": [],
   "source": [
    "combined = combine_linear_shards(shards[0],shards[2])"
   ]
  },
  {
   "cell_type": "markdown",
   "metadata": {},
   "source": [
    "**Testing shards and keys**"
   ]
  },
  {
   "cell_type": "code",
   "execution_count": 176,
   "metadata": {},
   "outputs": [
    {
     "ename": "ValueError",
     "evalue": "Fault detected in RSA decryption",
     "output_type": "error",
     "traceback": [
      "\u001b[1;31m---------------------------------------------------------------------------\u001b[0m",
      "\u001b[1;31mValueError\u001b[0m                                Traceback (most recent call last)",
      "\u001b[1;32m~\\AppData\\Local\\Temp\\ipykernel_10260\\3367761793.py\u001b[0m in \u001b[0;36m<module>\u001b[1;34m\u001b[0m\n\u001b[0;32m      1\u001b[0m \u001b[1;31m#Try out shards\u001b[0m\u001b[1;33m\u001b[0m\u001b[1;33m\u001b[0m\u001b[1;33m\u001b[0m\u001b[0m\n\u001b[0;32m      2\u001b[0m \u001b[0mshard1\u001b[0m \u001b[1;33m=\u001b[0m \u001b[0mPKCS1_OAEP\u001b[0m\u001b[1;33m.\u001b[0m\u001b[0mnew\u001b[0m\u001b[1;33m(\u001b[0m\u001b[0mshards\u001b[0m\u001b[1;33m[\u001b[0m\u001b[1;36m0\u001b[0m\u001b[1;33m]\u001b[0m\u001b[1;33m)\u001b[0m\u001b[1;33m\u001b[0m\u001b[1;33m\u001b[0m\u001b[0m\n\u001b[1;32m----> 3\u001b[1;33m \u001b[0mshard1\u001b[0m\u001b[1;33m.\u001b[0m\u001b[0mdecrypt\u001b[0m\u001b[1;33m(\u001b[0m\u001b[0mencrypted\u001b[0m\u001b[1;33m)\u001b[0m\u001b[1;33m\u001b[0m\u001b[1;33m\u001b[0m\u001b[0m\n\u001b[0m",
      "\u001b[1;32mc:\\Users\\lekha\\Anaconda3\\lib\\site-packages\\Crypto\\Cipher\\PKCS1_OAEP.py\u001b[0m in \u001b[0;36mdecrypt\u001b[1;34m(self, ciphertext)\u001b[0m\n\u001b[0;32m    169\u001b[0m         \u001b[0mct_int\u001b[0m \u001b[1;33m=\u001b[0m \u001b[0mbytes_to_long\u001b[0m\u001b[1;33m(\u001b[0m\u001b[0mciphertext\u001b[0m\u001b[1;33m)\u001b[0m\u001b[1;33m\u001b[0m\u001b[1;33m\u001b[0m\u001b[0m\n\u001b[0;32m    170\u001b[0m         \u001b[1;31m# Step 2b (RSADP)\u001b[0m\u001b[1;33m\u001b[0m\u001b[1;33m\u001b[0m\u001b[1;33m\u001b[0m\u001b[0m\n\u001b[1;32m--> 171\u001b[1;33m         \u001b[0mm_int\u001b[0m \u001b[1;33m=\u001b[0m \u001b[0mself\u001b[0m\u001b[1;33m.\u001b[0m\u001b[0m_key\u001b[0m\u001b[1;33m.\u001b[0m\u001b[0m_decrypt\u001b[0m\u001b[1;33m(\u001b[0m\u001b[0mct_int\u001b[0m\u001b[1;33m)\u001b[0m\u001b[1;33m\u001b[0m\u001b[1;33m\u001b[0m\u001b[0m\n\u001b[0m\u001b[0;32m    172\u001b[0m         \u001b[1;31m# Complete step 2c (I2OSP)\u001b[0m\u001b[1;33m\u001b[0m\u001b[1;33m\u001b[0m\u001b[1;33m\u001b[0m\u001b[0m\n\u001b[0;32m    173\u001b[0m         \u001b[0mem\u001b[0m \u001b[1;33m=\u001b[0m \u001b[0mlong_to_bytes\u001b[0m\u001b[1;33m(\u001b[0m\u001b[0mm_int\u001b[0m\u001b[1;33m,\u001b[0m \u001b[0mk\u001b[0m\u001b[1;33m)\u001b[0m\u001b[1;33m\u001b[0m\u001b[1;33m\u001b[0m\u001b[0m\n",
      "\u001b[1;32mc:\\Users\\lekha\\Anaconda3\\lib\\site-packages\\Crypto\\PublicKey\\RSA.py\u001b[0m in \u001b[0;36m_decrypt\u001b[1;34m(self, ciphertext)\u001b[0m\n\u001b[0;32m    171\u001b[0m         \u001b[1;31m# Verify no faults occurred\u001b[0m\u001b[1;33m\u001b[0m\u001b[1;33m\u001b[0m\u001b[1;33m\u001b[0m\u001b[0m\n\u001b[0;32m    172\u001b[0m         \u001b[1;32mif\u001b[0m \u001b[0mciphertext\u001b[0m \u001b[1;33m!=\u001b[0m \u001b[0mpow\u001b[0m\u001b[1;33m(\u001b[0m\u001b[0mresult\u001b[0m\u001b[1;33m,\u001b[0m \u001b[0mself\u001b[0m\u001b[1;33m.\u001b[0m\u001b[0m_e\u001b[0m\u001b[1;33m,\u001b[0m \u001b[0mself\u001b[0m\u001b[1;33m.\u001b[0m\u001b[0m_n\u001b[0m\u001b[1;33m)\u001b[0m\u001b[1;33m:\u001b[0m\u001b[1;33m\u001b[0m\u001b[1;33m\u001b[0m\u001b[0m\n\u001b[1;32m--> 173\u001b[1;33m             \u001b[1;32mraise\u001b[0m \u001b[0mValueError\u001b[0m\u001b[1;33m(\u001b[0m\u001b[1;34m\"Fault detected in RSA decryption\"\u001b[0m\u001b[1;33m)\u001b[0m\u001b[1;33m\u001b[0m\u001b[1;33m\u001b[0m\u001b[0m\n\u001b[0m\u001b[0;32m    174\u001b[0m         \u001b[1;32mreturn\u001b[0m \u001b[0mresult\u001b[0m\u001b[1;33m\u001b[0m\u001b[1;33m\u001b[0m\u001b[0m\n\u001b[0;32m    175\u001b[0m \u001b[1;33m\u001b[0m\u001b[0m\n",
      "\u001b[1;31mValueError\u001b[0m: Fault detected in RSA decryption"
     ]
    }
   ],
   "source": [
    "#Try out shards\n",
    "shard1 = PKCS1_OAEP.new(shards[0])\n",
    "shard1.decrypt(encrypted)"
   ]
  },
  {
   "cell_type": "code",
   "execution_count": 175,
   "metadata": {},
   "outputs": [
    {
     "data": {
      "text/plain": [
       "b'hey whatssup'"
      ]
     },
     "execution_count": 175,
     "metadata": {},
     "output_type": "execute_result"
    }
   ],
   "source": [
    "#Try out combined key\n",
    "combined_key = PKCS1_OAEP.new(combined)\n",
    "combined_key.decrypt(encrypted)"
   ]
  },
  {
   "cell_type": "code",
   "execution_count": null,
   "metadata": {},
   "outputs": [],
   "source": []
  }
 ],
 "metadata": {
  "kernelspec": {
   "display_name": "Python 3.7.4 ('base')",
   "language": "python",
   "name": "python3"
  },
  "language_info": {
   "codemirror_mode": {
    "name": "ipython",
    "version": 3
   },
   "file_extension": ".py",
   "mimetype": "text/x-python",
   "name": "python",
   "nbconvert_exporter": "python",
   "pygments_lexer": "ipython3",
   "version": "3.7.4"
  },
  "orig_nbformat": 4,
  "vscode": {
   "interpreter": {
    "hash": "563c437eecf6a47e4305ca5d77063edd85448e6c3d63dd5814ca2a09ec1eeaf6"
   }
  }
 },
 "nbformat": 4,
 "nbformat_minor": 2
}
