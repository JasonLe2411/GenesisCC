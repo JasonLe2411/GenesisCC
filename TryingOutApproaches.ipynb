{
 "cells": [
  {
   "cell_type": "code",
   "execution_count": 1,
   "metadata": {},
   "outputs": [],
   "source": [
    "from Crypto import Random\n",
    "from Crypto.PublicKey import RSA\n",
    "import base64"
   ]
  },
  {
   "cell_type": "code",
   "execution_count": 2,
   "metadata": {},
   "outputs": [],
   "source": [
    "def toBase64(string):\n",
    "    return base64.b64encode(string)"
   ]
  },
  {
   "cell_type": "code",
   "execution_count": 3,
   "metadata": {},
   "outputs": [],
   "source": [
    "ori_key = RSA.generate(256*5,Random.new().read)"
   ]
  },
  {
   "cell_type": "code",
   "execution_count": 4,
   "metadata": {},
   "outputs": [
    {
     "data": {
      "text/plain": [
       "RsaKey(n=11777440732895235409886786895856667944021108676627204811862057689005038678119703469213187705646687452731590545040438188690540606493337652045541342579961682704758237969889114788707269019941250998394600738076260331883915554332362060732842073143777569611226207953471729309918421951620949897438688213710571031819400032184815423773266588749179700369347944166685732401534157120154586856463977, e=65537, d=2843050507572349539986784748857903401260142359561479679052499865250228335248680420749915865803796616353207016155946295438892498360130129914193307754188989444598130884883817393453214970626982640514574304806972590255441225282778023288594263140341389724824205253485636612330992196616551752821311339661386386960254125083384871133872715962314109611134982183957551636236041853682380983171977, p=3279678725033217867388769301660577656893259718918467521272663395059085857715432354058208480867520115203116960794174593087142045316415921837358207942907861173899454549906671376776548552278589773, q=3591034891009316435130028109670145813892071073075627442959731300635121741721072696913376506056267279987782176993296387198790136227296625040508118509992383181417951699445401544923437126989988749, u=3276650223473185537512607018572556665820440492874278162244024441687895283428321388188315923045506242505302902895516175152395778852341251187393257367098334120303418712779640899034822756434087504)"
      ]
     },
     "execution_count": 4,
     "metadata": {},
     "output_type": "execute_result"
    }
   ],
   "source": [
    "ori_key"
   ]
  },
  {
   "cell_type": "markdown",
   "metadata": {},
   "source": [
    "**Writing public key to file**"
   ]
  },
  {
   "cell_type": "code",
   "execution_count": 5,
   "metadata": {},
   "outputs": [],
   "source": [
    "f = open('Public.txt','w')\n",
    "f.write(ori_key.public_key().export_key().decode())\n",
    "f.close()"
   ]
  },
  {
   "cell_type": "markdown",
   "metadata": {},
   "source": [
    "**Testing keys**"
   ]
  },
  {
   "cell_type": "code",
   "execution_count": 6,
   "metadata": {},
   "outputs": [],
   "source": [
    "from Crypto.Cipher import PKCS1_OAEP\n",
    "\n",
    "pub_key = PKCS1_OAEP.new(ori_key.public_key())\n",
    "encrypted = pub_key.encrypt(b'hey whatssup')\n"
   ]
  },
  {
   "cell_type": "code",
   "execution_count": 7,
   "metadata": {},
   "outputs": [
    {
     "data": {
      "text/plain": [
       "b'hey'"
      ]
     },
     "execution_count": 7,
     "metadata": {},
     "output_type": "execute_result"
    }
   ],
   "source": [
    "str.encode('hey')"
   ]
  },
  {
   "cell_type": "code",
   "execution_count": 8,
   "metadata": {},
   "outputs": [
    {
     "data": {
      "text/plain": [
       "b'hey whatssup'"
      ]
     },
     "execution_count": 8,
     "metadata": {},
     "output_type": "execute_result"
    }
   ],
   "source": [
    "prikey = PKCS1_OAEP.new(ori_key)\n",
    "prikey.decrypt(encrypted)"
   ]
  },
  {
   "cell_type": "markdown",
   "metadata": {},
   "source": [
    "**Sharding key**"
   ]
  },
  {
   "cell_type": "code",
   "execution_count": 9,
   "metadata": {},
   "outputs": [],
   "source": [
    "class Shard(RSA.RsaKey):\n",
    "    def __init__(self,x,n,d,e,q,p,u):\n",
    "        RSA.RsaKey.__init__(self,n=n,d=d,e=e,q=q,p=p,u=u)\n",
    "        self.__x = x \n",
    "    def get_key():\n",
    "        return super().export_key().decode()\n"
   ]
  },
  {
   "cell_type": "markdown",
   "metadata": {},
   "source": [
    "For 2 shards to be able to form the key, we must have all of the shards in a straight line that follows the rule of y=ax+b.\n",
    "In here, 'x' and 'b' will randomized; and 'a' will be the hidden values like d,q,p and u. The shards will be given 'x' and 'y'.\n",
    "2 Shards will be needed to compute 'a', which will be the needed attributes of the private key"
   ]
  },
  {
   "cell_type": "code",
   "execution_count": 10,
   "metadata": {},
   "outputs": [
    {
     "name": "stdout",
     "output_type": "stream",
     "text": [
      "The equations are:\n",
      "x1: a*895988 + 913391\n",
      "x2: a*825207 + 913391\n",
      "x3: a*811050 + 913391\n",
      "x4: a*156031 + 913391\n",
      "x5: a*252065 + 913391\n"
     ]
    }
   ],
   "source": [
    "#Determining the equation \n",
    "import random\n",
    "b = random.randint(1,1000000)\n",
    "#Getting a list of 5 random numbers from 1 to 100\n",
    "li = range(1,1000001)\n",
    "x = random.sample(li,5)\n",
    "#Printing equations:\n",
    "print(\"The equations are:\")\n",
    "for i in range(1,6):\n",
    "    print(\"x{:d}: a*{:d} + {:d}\".format(i,x[i-1],b))\n"
   ]
  },
  {
   "cell_type": "code",
   "execution_count": 11,
   "metadata": {},
   "outputs": [],
   "source": [
    "def sharding_linear(nums,private_key):\n",
    "    if isinstance(private_key,RSA.RsaKey):\n",
    "        b = random.randint(1,1000000)\n",
    "        li = range(1,1000001)\n",
    "        x = random.sample(li,nums)\n",
    "        list = []\n",
    "        for i in range(0,nums):\n",
    "            n = private_key.n\n",
    "            d = private_key.d * x[i] + b\n",
    "            e = private_key.e\n",
    "            q = private_key.q * x[i] + b \n",
    "            p = private_key.p * x[i] + b \n",
    "            u = private_key.u * x[i] + b \n",
    "            list.append(Shard(x=x[i],n=n,d=d,e=e,q=q,p=p,u=u))\n",
    "        return list \n",
    "    else:\n",
    "        print(\"Key is not RSA key\")\n",
    "\n",
    "    \n",
    "    "
   ]
  },
  {
   "cell_type": "code",
   "execution_count": 12,
   "metadata": {},
   "outputs": [],
   "source": [
    "shards = sharding_linear(5,ori_key)"
   ]
  },
  {
   "cell_type": "code",
   "execution_count": 13,
   "metadata": {},
   "outputs": [
    {
     "name": "stdout",
     "output_type": "stream",
     "text": [
      "Private RSA key at 0x244A7C0B908\n",
      "Private RSA key at 0x244A7C0BE08\n",
      "Private RSA key at 0x244A7C0B988\n",
      "Private RSA key at 0x244A7CAD0C8\n",
      "Private RSA key at 0x244A7CAD4C8\n"
     ]
    }
   ],
   "source": [
    "for x in shards:\n",
    "    print(x)"
   ]
  },
  {
   "cell_type": "code",
   "execution_count": 134,
   "metadata": {},
   "outputs": [
    {
     "data": {
      "text/plain": [
       "{'_n': 13685199152547765789497065624398310214666527124503818174596319337243682270660782077179612735010011872526682561871393690150701302126678845754288719257315058474661195483786573772711115507135235240398519967635716600591713510122979857036118201804067349120727854122639633724082765344885155214267534052253219653571422833606855208430482943590583155639673454331573180383043544163503225170014847,\n",
       " '_d': 1018732249685876313536518868120285210320577865406827918466578060551279316612883762627186542190929245657656870163656637288466803859677642822451711982559561136232132244778757557213444378661271143858159441503205617278425207715259436552535575016742001287315830133059582331724380490468758147977598226135431726047833300249924912404312138182849442084465559515147076129970398208680757497508380512531,\n",
       " '_e': 65537,\n",
       " '_q': 641592238164169692243271878182862787722667141287940381082122659834174608380128387154577983070333132351161744791964587855934272990087279204630569654578113737060284527645115691020016080957312073415395,\n",
       " '_p': 510129731768360353978495156058581605232677968837471645018791951796656798651378191344936282400150879116576401120545536798884847663306221256364602374741162093976916998862549096098876231986828451345043,\n",
       " '_u': 355724664902402883510515233718519880819009528288433937715203594028460784091420602947598231464312095698016741934127684303303431086527895295577052752451401742767894906928608115900051144366064133332211,\n",
       " '_dp': 367383844386799377173568419461403795219552334847275868117817396635504455554787720764564542697228378754735216600305733719828273898274670825800408884930283719035092542981275318396931786803727422927469,\n",
       " '_dq': 373908491606527385929845328834447877000904592010552046359377428642371974158264029323113397465127798249259578499819511764553526555517372607339614512710313252806926826995149897706538406781580940610439,\n",
       " '_Shard__x': 154648}"
      ]
     },
     "execution_count": 134,
     "metadata": {},
     "output_type": "execute_result"
    }
   ],
   "source": [
    "shards[0].__dict__"
   ]
  },
  {
   "cell_type": "markdown",
   "metadata": {},
   "source": [
    "Since shards are not keys, we cannot export them as keys. Instead, we will export them as dictionaries"
   ]
  },
  {
   "cell_type": "code",
   "execution_count": 15,
   "metadata": {},
   "outputs": [],
   "source": [
    "for i in range(len(shards)):\n",
    "    f = open('Shard[{:d}].txt'.format(i+1),'w')\n",
    "    f.write(str(shards[i].__dict__))\n",
    "    f.close()"
   ]
  },
  {
   "cell_type": "code",
   "execution_count": 17,
   "metadata": {},
   "outputs": [],
   "source": [
    "#Opening shards \n",
    "f2 = open('Shard[1].txt','r')\n",
    "dict1 = eval(f2.read())\n",
    "shardtest1 = object.__new__(RSA.RsaKey)\n",
    "shardtest1.__dict__ = dict1\n",
    "f2.close()"
   ]
  },
  {
   "cell_type": "code",
   "execution_count": 18,
   "metadata": {},
   "outputs": [
    {
     "data": {
      "text/plain": [
       "RsaKey(n=11777440732895235409886786895856667944021108676627204811862057689005038678119703469213187705646687452731590545040438188690540606493337652045541342579961682704758237969889114788707269019941250998394600738076260331883915554332362060732842073143777569611226207953471729309918421951620949897438688213710571031819400032184815423773266588749179700369347944166685732401534157120154586856463977, e=65537, d=62891120278007944174047665429485681139275609135859491980320349519200301004036059587408888867445784950349292404385688001403740956224438603831870160830414635503955253304514924560578568365239482990822898196635040669040615344480332653166993694927491882102836244412355767501373878381354741324160228144649528265947781500969556734352398349802350418707916940891324999745177481845307949728748214957, p=72549773076459812444506965722033638348135798242195420038072586962102038258523079104121629805270412468408150289727936173680669184444436606964200917905064797027829834098485477525674030524954685280273, q=79437282824017088861511351814013295549106504207505954665712216101349528048611849128420801690470688500609729537268709381224436603484028642521080089559541508356146509543431727575251352686145542028369, u=72482779593450337275316379857843526004613964142871907227000064674577931564717897428113736533689643590459805514951713310546147023992640817516326246217582249075231925345398436327549314195078450587724)"
      ]
     },
     "execution_count": 18,
     "metadata": {},
     "output_type": "execute_result"
    }
   ],
   "source": [
    "shardtest1"
   ]
  },
  {
   "cell_type": "code",
   "execution_count": 19,
   "metadata": {},
   "outputs": [],
   "source": [
    "f3 = open('Shard[3].txt','r')\n",
    "dict2 = eval(f3.read())\n",
    "shardtest2 = object.__new__(RSA.RsaKey)\n",
    "shardtest2.__dict__ = dict2\n",
    "f3.close()"
   ]
  },
  {
   "cell_type": "code",
   "execution_count": 20,
   "metadata": {},
   "outputs": [
    {
     "data": {
      "text/plain": [
       "RsaKey(n=11777440732895235409886786895856667944021108676627204811862057689005038678119703469213187705646687452731590545040438188690540606493337652045541342579961682704758237969889114788707269019941250998394600738076260331883915554332362060732842073143777569611226207953471729309918421951620949897438688213710571031819400032184815423773266588749179700369347944166685732401534157120154586856463977, e=65537, d=1420066768875790154679379153852787596185224726750284800450896000194240800488357637319113226062740960512414312878685147269886097328406318200450672710216595770713986601297963298403765986033559678162703175785120318188919571292818946518350082713179699729483267809447780174583370299311411585361458337113446902263616452175524659128044681277868387667336978846118405594128631837370251430141622187539, p=1638156887330666892928414212178536952108643617223428586797918821207877617812708160231472379483075019782459281396199884977317318788960639550776539210779218854167516854769233565971987906731975970858191, q=1793675244605570438233792350414812122143508904077325924601627308160335053407033438163171690880526774879257356239850632552762088773763709351608278590200565498136908440500885281469172840248848511183503, u=1636644190171951024575559541885750611340654360464294576424781036305361751433761965222017355454230776550246231058572687778344710391619374531837495942519845614747993702590164493736206514142993066022188)"
      ]
     },
     "execution_count": 20,
     "metadata": {},
     "output_type": "execute_result"
    }
   ],
   "source": [
    "shardtest2"
   ]
  },
  {
   "cell_type": "markdown",
   "metadata": {},
   "source": [
    "**Combining shards to find key**"
   ]
  },
  {
   "cell_type": "code",
   "execution_count": 21,
   "metadata": {},
   "outputs": [],
   "source": [
    "def combine_linear_shards(shard1,shard2):\n",
    "    #Solving linear equation\n",
    "    d_difference = shard1.d-shard2.d\n",
    "    q_difference = shard1.q - shard2.q\n",
    "    p_difference = shard1.p - shard2.p\n",
    "    u_difference = shard1.u - shard2.u\n",
    "    x_difference = shard1._Shard__x-shard2._Shard__x\n",
    "    d = d_difference // x_difference\n",
    "    q = q_difference // x_difference\n",
    "    p = p_difference // x_difference\n",
    "    u = u_difference // x_difference\n",
    "    \n",
    "    return RSA.RsaKey(d=d,n=shard1.n,e=shard1.e,q=q,p=p,u=u)\n",
    "    \n",
    "    "
   ]
  },
  {
   "cell_type": "code",
   "execution_count": 22,
   "metadata": {},
   "outputs": [],
   "source": [
    "combined = combine_linear_shards(shardtest1,shardtest2)"
   ]
  },
  {
   "cell_type": "markdown",
   "metadata": {},
   "source": [
    "**Testing shards and keys**"
   ]
  },
  {
   "cell_type": "code",
   "execution_count": 23,
   "metadata": {},
   "outputs": [
    {
     "ename": "ValueError",
     "evalue": "Fault detected in RSA decryption",
     "output_type": "error",
     "traceback": [
      "\u001b[1;31m---------------------------------------------------------------------------\u001b[0m",
      "\u001b[1;31mValueError\u001b[0m                                Traceback (most recent call last)",
      "\u001b[1;32m~\\AppData\\Local\\Temp\\ipykernel_14356\\3367761793.py\u001b[0m in \u001b[0;36m<module>\u001b[1;34m\u001b[0m\n\u001b[0;32m      1\u001b[0m \u001b[1;31m#Try out shards\u001b[0m\u001b[1;33m\u001b[0m\u001b[1;33m\u001b[0m\u001b[1;33m\u001b[0m\u001b[0m\n\u001b[0;32m      2\u001b[0m \u001b[0mshard1\u001b[0m \u001b[1;33m=\u001b[0m \u001b[0mPKCS1_OAEP\u001b[0m\u001b[1;33m.\u001b[0m\u001b[0mnew\u001b[0m\u001b[1;33m(\u001b[0m\u001b[0mshards\u001b[0m\u001b[1;33m[\u001b[0m\u001b[1;36m0\u001b[0m\u001b[1;33m]\u001b[0m\u001b[1;33m)\u001b[0m\u001b[1;33m\u001b[0m\u001b[1;33m\u001b[0m\u001b[0m\n\u001b[1;32m----> 3\u001b[1;33m \u001b[0mshard1\u001b[0m\u001b[1;33m.\u001b[0m\u001b[0mdecrypt\u001b[0m\u001b[1;33m(\u001b[0m\u001b[0mencrypted\u001b[0m\u001b[1;33m)\u001b[0m\u001b[1;33m\u001b[0m\u001b[1;33m\u001b[0m\u001b[0m\n\u001b[0m",
      "\u001b[1;32mc:\\Users\\lekha\\Anaconda3\\lib\\site-packages\\Crypto\\Cipher\\PKCS1_OAEP.py\u001b[0m in \u001b[0;36mdecrypt\u001b[1;34m(self, ciphertext)\u001b[0m\n\u001b[0;32m    169\u001b[0m         \u001b[0mct_int\u001b[0m \u001b[1;33m=\u001b[0m \u001b[0mbytes_to_long\u001b[0m\u001b[1;33m(\u001b[0m\u001b[0mciphertext\u001b[0m\u001b[1;33m)\u001b[0m\u001b[1;33m\u001b[0m\u001b[1;33m\u001b[0m\u001b[0m\n\u001b[0;32m    170\u001b[0m         \u001b[1;31m# Step 2b (RSADP)\u001b[0m\u001b[1;33m\u001b[0m\u001b[1;33m\u001b[0m\u001b[1;33m\u001b[0m\u001b[0m\n\u001b[1;32m--> 171\u001b[1;33m         \u001b[0mm_int\u001b[0m \u001b[1;33m=\u001b[0m \u001b[0mself\u001b[0m\u001b[1;33m.\u001b[0m\u001b[0m_key\u001b[0m\u001b[1;33m.\u001b[0m\u001b[0m_decrypt\u001b[0m\u001b[1;33m(\u001b[0m\u001b[0mct_int\u001b[0m\u001b[1;33m)\u001b[0m\u001b[1;33m\u001b[0m\u001b[1;33m\u001b[0m\u001b[0m\n\u001b[0m\u001b[0;32m    172\u001b[0m         \u001b[1;31m# Complete step 2c (I2OSP)\u001b[0m\u001b[1;33m\u001b[0m\u001b[1;33m\u001b[0m\u001b[1;33m\u001b[0m\u001b[0m\n\u001b[0;32m    173\u001b[0m         \u001b[0mem\u001b[0m \u001b[1;33m=\u001b[0m \u001b[0mlong_to_bytes\u001b[0m\u001b[1;33m(\u001b[0m\u001b[0mm_int\u001b[0m\u001b[1;33m,\u001b[0m \u001b[0mk\u001b[0m\u001b[1;33m)\u001b[0m\u001b[1;33m\u001b[0m\u001b[1;33m\u001b[0m\u001b[0m\n",
      "\u001b[1;32mc:\\Users\\lekha\\Anaconda3\\lib\\site-packages\\Crypto\\PublicKey\\RSA.py\u001b[0m in \u001b[0;36m_decrypt\u001b[1;34m(self, ciphertext)\u001b[0m\n\u001b[0;32m    171\u001b[0m         \u001b[1;31m# Verify no faults occurred\u001b[0m\u001b[1;33m\u001b[0m\u001b[1;33m\u001b[0m\u001b[1;33m\u001b[0m\u001b[0m\n\u001b[0;32m    172\u001b[0m         \u001b[1;32mif\u001b[0m \u001b[0mciphertext\u001b[0m \u001b[1;33m!=\u001b[0m \u001b[0mpow\u001b[0m\u001b[1;33m(\u001b[0m\u001b[0mresult\u001b[0m\u001b[1;33m,\u001b[0m \u001b[0mself\u001b[0m\u001b[1;33m.\u001b[0m\u001b[0m_e\u001b[0m\u001b[1;33m,\u001b[0m \u001b[0mself\u001b[0m\u001b[1;33m.\u001b[0m\u001b[0m_n\u001b[0m\u001b[1;33m)\u001b[0m\u001b[1;33m:\u001b[0m\u001b[1;33m\u001b[0m\u001b[1;33m\u001b[0m\u001b[0m\n\u001b[1;32m--> 173\u001b[1;33m             \u001b[1;32mraise\u001b[0m \u001b[0mValueError\u001b[0m\u001b[1;33m(\u001b[0m\u001b[1;34m\"Fault detected in RSA decryption\"\u001b[0m\u001b[1;33m)\u001b[0m\u001b[1;33m\u001b[0m\u001b[1;33m\u001b[0m\u001b[0m\n\u001b[0m\u001b[0;32m    174\u001b[0m         \u001b[1;32mreturn\u001b[0m \u001b[0mresult\u001b[0m\u001b[1;33m\u001b[0m\u001b[1;33m\u001b[0m\u001b[0m\n\u001b[0;32m    175\u001b[0m \u001b[1;33m\u001b[0m\u001b[0m\n",
      "\u001b[1;31mValueError\u001b[0m: Fault detected in RSA decryption"
     ]
    }
   ],
   "source": [
    "#Try out shards\n",
    "shard1 = PKCS1_OAEP.new(shards[0])\n",
    "shard1.decrypt(encrypted)"
   ]
  },
  {
   "cell_type": "code",
   "execution_count": 24,
   "metadata": {},
   "outputs": [
    {
     "data": {
      "text/plain": [
       "b'hey whatssup'"
      ]
     },
     "execution_count": 24,
     "metadata": {},
     "output_type": "execute_result"
    }
   ],
   "source": [
    "#Try out combined key\n",
    "combined_key = PKCS1_OAEP.new(combined)\n",
    "combined_key.decrypt(encrypted)"
   ]
  },
  {
   "cell_type": "code",
   "execution_count": null,
   "metadata": {},
   "outputs": [],
   "source": []
  }
 ],
 "metadata": {
  "kernelspec": {
   "display_name": "Python 3.7.4 ('base')",
   "language": "python",
   "name": "python3"
  },
  "language_info": {
   "codemirror_mode": {
    "name": "ipython",
    "version": 3
   },
   "file_extension": ".py",
   "mimetype": "text/x-python",
   "name": "python",
   "nbconvert_exporter": "python",
   "pygments_lexer": "ipython3",
   "version": "3.7.4"
  },
  "orig_nbformat": 4,
  "vscode": {
   "interpreter": {
    "hash": "563c437eecf6a47e4305ca5d77063edd85448e6c3d63dd5814ca2a09ec1eeaf6"
   }
  }
 },
 "nbformat": 4,
 "nbformat_minor": 2
}
