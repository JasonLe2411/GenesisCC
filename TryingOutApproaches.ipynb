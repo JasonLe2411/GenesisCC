{
 "cells": [
  {
   "cell_type": "code",
   "execution_count": 2,
   "metadata": {},
   "outputs": [],
   "source": [
    "from Crypto import Random\n",
    "from Crypto.PublicKey import RSA\n",
    "import base64"
   ]
  },
  {
   "cell_type": "code",
   "execution_count": 3,
   "metadata": {},
   "outputs": [],
   "source": [
    "def toBase64(string):\n",
    "    return base64.b64encode(string)"
   ]
  },
  {
   "cell_type": "code",
   "execution_count": 4,
   "metadata": {},
   "outputs": [],
   "source": [
    "ori_key = RSA.generate(256*5,Random.new().read)"
   ]
  },
  {
   "cell_type": "code",
   "execution_count": 5,
   "metadata": {},
   "outputs": [
    {
     "data": {
      "text/plain": [
       "RsaKey(n=13064147292672466434974191692713748332827487299406554828069064397026174626884094771325952983425150029810845419246386278279048760148226361957022302327437043317114895496896447616223807714542169907321897869168189244142008636325323859648653445307512523935052546033903353619030954462029523020158030661751472763401198685235095636933986141339698441862772160234808848495208735912360897646303603, e=65537, d=363341495410812002096413947037759305643917033131606452465458811055020457768080342531219168335101416272117724305061506735005764997637601413830647587589098909514407134186859288850138011357803015642588015467590746186060820598894831751788402644702306132512181506324753718182676776791886169006674213645288238022081116499606714974548821029996842616141050759542638308185212110546652181868405, p=3279421246008769146256566765972363090480481028916463353841687515459061149364694596310159267980101090706370667573760088500086685865714286893913572248488360540237321729096479230442833988824713229, q=3983674652523591356066866967350252043108090798717075849781373957733850497109538114298934256093200060961382737750994508875244875526739035115353455421890591668602850709801862291302678574743259007, u=3730656507010736508375243960196287569716296434937830090442073560040718504509751419802862570544459267309957353946597002382451338339150546088958166302608726080916453446006959638447024307372200033)"
      ]
     },
     "execution_count": 5,
     "metadata": {},
     "output_type": "execute_result"
    }
   ],
   "source": [
    "ori_key"
   ]
  },
  {
   "cell_type": "markdown",
   "metadata": {},
   "source": [
    "**Testing keys**"
   ]
  },
  {
   "cell_type": "code",
   "execution_count": 6,
   "metadata": {},
   "outputs": [],
   "source": [
    "from Crypto.Cipher import PKCS1_OAEP\n",
    "\n",
    "pub_key = PKCS1_OAEP.new(ori_key.public_key())\n",
    "encrypted = pub_key.encrypt(b'hey whatssup')\n"
   ]
  },
  {
   "cell_type": "code",
   "execution_count": 7,
   "metadata": {},
   "outputs": [
    {
     "data": {
      "text/plain": [
       "b'hey'"
      ]
     },
     "execution_count": 7,
     "metadata": {},
     "output_type": "execute_result"
    }
   ],
   "source": [
    "str.encode('hey')"
   ]
  },
  {
   "cell_type": "code",
   "execution_count": 8,
   "metadata": {},
   "outputs": [
    {
     "data": {
      "text/plain": [
       "b'hey whatssup'"
      ]
     },
     "execution_count": 8,
     "metadata": {},
     "output_type": "execute_result"
    }
   ],
   "source": [
    "prikey = PKCS1_OAEP.new(ori_key)\n",
    "prikey.decrypt(encrypted)"
   ]
  },
  {
   "cell_type": "markdown",
   "metadata": {},
   "source": [
    "**Sharding key**"
   ]
  },
  {
   "cell_type": "code",
   "execution_count": 23,
   "metadata": {},
   "outputs": [],
   "source": [
    "class Shard(RSA.RsaKey):\n",
    "    def __init__(self,x,n,d,e,q,p,u):\n",
    "        RSA.RsaKey.__init__(self,n=n,d=d,e=e,q=q,p=p,u=u)\n",
    "        self.__x = x \n",
    "    def decode(self):\n",
    "        return super().decode(self)"
   ]
  },
  {
   "cell_type": "markdown",
   "metadata": {},
   "source": [
    "For 2 shards to be able to form the key, we must have all of the shards in a straight line that follows the rule of y=ax+b.\n",
    "In here, 'x' and 'b' will randomized; and 'a' will be the hidden values like d,q,p and u. The shards will be given 'x' and 'y'.\n",
    "2 Shards will be needed to compute 'a', which will be the needed attributes of the private key"
   ]
  },
  {
   "cell_type": "code",
   "execution_count": 12,
   "metadata": {},
   "outputs": [
    {
     "name": "stdout",
     "output_type": "stream",
     "text": [
      "The equations are:\n",
      "x1: a*185088 + 269767\n",
      "x2: a*489038 + 269767\n",
      "x3: a*184717 + 269767\n",
      "x4: a*715980 + 269767\n",
      "x5: a*541605 + 269767\n"
     ]
    }
   ],
   "source": [
    "#Determining the equation \n",
    "import random\n",
    "b = random.randint(1,1000000)\n",
    "#Getting a list of 5 random numbers from 1 to 100\n",
    "li = range(1,1000001)\n",
    "x = random.sample(li,5)\n",
    "#Printing equations:\n",
    "print(\"The equations are:\")\n",
    "for i in range(1,6):\n",
    "    print(\"x{:d}: a*{:d} + {:d}\".format(i,x[i-1],b))\n"
   ]
  },
  {
   "cell_type": "code",
   "execution_count": 13,
   "metadata": {},
   "outputs": [],
   "source": [
    "def sharding_linear(nums,private_key):\n",
    "    if isinstance(private_key,RSA.RsaKey):\n",
    "        b = random.randint(1,1000000)\n",
    "        li = range(1,1000001)\n",
    "        x = random.sample(li,nums)\n",
    "        list = []\n",
    "        for i in range(0,nums):\n",
    "            n = private_key.n\n",
    "            d = private_key.d * x[i] + b\n",
    "            e = private_key.e\n",
    "            q = private_key.q * x[i] + b \n",
    "            p = private_key.p * x[i] + b \n",
    "            u = private_key.u * x[i] + b \n",
    "            list.append(Shard(x=x[i],n=n,d=d,e=e,q=q,p=p,u=u))\n",
    "        return list \n",
    "    else:\n",
    "        print(\"Key is not RSA key\")\n",
    "\n",
    "    \n",
    "    "
   ]
  },
  {
   "cell_type": "code",
   "execution_count": 14,
   "metadata": {},
   "outputs": [
    {
     "data": {
      "text/plain": [
       "RsaKey(n=13064147292672466434974191692713748332827487299406554828069064397026174626884094771325952983425150029810845419246386278279048760148226361957022302327437043317114895496896447616223807714542169907321897869168189244142008636325323859648653445307512523935052546033903353619030954462029523020158030661751472763401198685235095636933986141339698441862772160234808848495208735912360897646303603, e=65537, d=92976181943663504840455557735386304239833217442113038334291186078491294979189615010998735423605771612704748707870799081434095216775481100987952072483349698153460670381343797142439516002370929278813132454032731223043475504692396286628637929558162520860807150016453878453201525766829335559455877878120097803946381063317361508267246911007952050729565760960884801958130297392003920122670327567, p=839177661483675954373885382878199935949231251451491640541257101705850075633230429638999275401964028303034602866784616566464182219549360301857331829810183555362408731901956263236477675068333518030575, q=1019390474183566839286662722009190695815015570665309973352255344792430471406353927144182884660201149999530151528577486865104161688288305173738026414818427283262120673832618145446025025848202034254551, u=954645154891991386601157927462548418789842527329111217503403087425939539556009310316194108901762770830479607216102600133650237870281911539795683091507152134297873105205612915801485944062087011279743)"
      ]
     },
     "execution_count": 14,
     "metadata": {},
     "output_type": "execute_result"
    }
   ],
   "source": [
    "shards = sharding_linear(5,ori_key)\n",
    "shards[0]"
   ]
  },
  {
   "cell_type": "code",
   "execution_count": 17,
   "metadata": {},
   "outputs": [
    {
     "data": {
      "text/plain": [
       "RsaKey(n=13064147292672466434974191692713748332827487299406554828069064397026174626884094771325952983425150029810845419246386278279048760148226361957022302327437043317114895496896447616223807714542169907321897869168189244142008636325323859648653445307512523935052546033903353619030954462029523020158030661751472763401198685235095636933986141339698441862772160234808848495208735912360897646303603, e=65537, d=206301667679304946670322874988569356151559652241794827645362858328930065716138337685800931588987233145145722683170872909068923308008653706758903393757214469833185226719956835616219861468846974251705049302343349776983473327846496520347937137635522398979091537476131913646942047094665047900299551765658208666557437137311696695399075092621907269018727210760714605004481584247283642343062110257, p=1862022589271319033553016044051448039143912323408478727677771754402500329997779944838945330766421598292170201341705240649464219367693914955495187186969206231141348904563689942253136710514783924729217, q=2261890630956369936061206395391799607556342874603568496747366319461702973753824645917791881267158062613263504667637172194275287875327156748146538453995259043516012604518399390378747867953475032019837, u=2118229458115626082090379768159850119209215952793350547052104946655519559675591758649867338929438527385920685997338311982732045395586288563849557244958208581483553102108291613113835931482861457172377)"
      ]
     },
     "execution_count": 17,
     "metadata": {},
     "output_type": "execute_result"
    }
   ],
   "source": [
    "shards[2]"
   ]
  },
  {
   "cell_type": "code",
   "execution_count": 18,
   "metadata": {},
   "outputs": [
    {
     "ename": "AttributeError",
     "evalue": "'Shard' object has no attribute 'x'",
     "output_type": "error",
     "traceback": [
      "\u001b[1;31m---------------------------------------------------------------------------\u001b[0m",
      "\u001b[1;31mAttributeError\u001b[0m                            Traceback (most recent call last)",
      "\u001b[1;32m~\\AppData\\Local\\Temp\\ipykernel_26908\\57581711.py\u001b[0m in \u001b[0;36m<module>\u001b[1;34m\u001b[0m\n\u001b[1;32m----> 1\u001b[1;33m \u001b[0mtype\u001b[0m\u001b[1;33m(\u001b[0m\u001b[0mshards\u001b[0m\u001b[1;33m[\u001b[0m\u001b[1;36m0\u001b[0m\u001b[1;33m]\u001b[0m\u001b[1;33m.\u001b[0m\u001b[0mx\u001b[0m\u001b[1;33m)\u001b[0m\u001b[1;33m\u001b[0m\u001b[1;33m\u001b[0m\u001b[0m\n\u001b[0m",
      "\u001b[1;31mAttributeError\u001b[0m: 'Shard' object has no attribute 'x'"
     ]
    }
   ],
   "source": [
    "type(shards[0].x)"
   ]
  },
  {
   "cell_type": "markdown",
   "metadata": {},
   "source": [
    "**Combining shards to find key**"
   ]
  },
  {
   "cell_type": "code",
   "execution_count": 26,
   "metadata": {},
   "outputs": [],
   "source": [
    "def combine_linear_shards(shard1,shard2):\n",
    "    #Solving linear equation\n",
    "    d_difference = shard1.d-shard2.d\n",
    "    q_difference = shard1.q - shard2.q\n",
    "    p_difference = shard1.p - shard2.p\n",
    "    u_difference = shard1.u - shard2.u\n",
    "    x_difference = shard1._Shard__x-shard2._Shard__x\n",
    "    d = d_difference // x_difference\n",
    "    q = q_difference // x_difference\n",
    "    p = p_difference // x_difference\n",
    "    u = u_difference // x_difference\n",
    "    \n",
    "    return RSA.RsaKey(d=d,n=shard1.n,e=shard1.e,q=q,p=p,u=u)\n",
    "    \n",
    "    "
   ]
  },
  {
   "cell_type": "code",
   "execution_count": 27,
   "metadata": {},
   "outputs": [],
   "source": [
    "combined = combine_linear_shards(shards[0],shards[2])"
   ]
  },
  {
   "cell_type": "markdown",
   "metadata": {},
   "source": [
    "**Testing shards and keys**"
   ]
  },
  {
   "cell_type": "code",
   "execution_count": 28,
   "metadata": {},
   "outputs": [
    {
     "ename": "ValueError",
     "evalue": "Fault detected in RSA decryption",
     "output_type": "error",
     "traceback": [
      "\u001b[1;31m---------------------------------------------------------------------------\u001b[0m",
      "\u001b[1;31mValueError\u001b[0m                                Traceback (most recent call last)",
      "\u001b[1;32m~\\AppData\\Local\\Temp\\ipykernel_26908\\3367761793.py\u001b[0m in \u001b[0;36m<module>\u001b[1;34m\u001b[0m\n\u001b[0;32m      1\u001b[0m \u001b[1;31m#Try out shards\u001b[0m\u001b[1;33m\u001b[0m\u001b[1;33m\u001b[0m\u001b[1;33m\u001b[0m\u001b[0m\n\u001b[0;32m      2\u001b[0m \u001b[0mshard1\u001b[0m \u001b[1;33m=\u001b[0m \u001b[0mPKCS1_OAEP\u001b[0m\u001b[1;33m.\u001b[0m\u001b[0mnew\u001b[0m\u001b[1;33m(\u001b[0m\u001b[0mshards\u001b[0m\u001b[1;33m[\u001b[0m\u001b[1;36m0\u001b[0m\u001b[1;33m]\u001b[0m\u001b[1;33m)\u001b[0m\u001b[1;33m\u001b[0m\u001b[1;33m\u001b[0m\u001b[0m\n\u001b[1;32m----> 3\u001b[1;33m \u001b[0mshard1\u001b[0m\u001b[1;33m.\u001b[0m\u001b[0mdecrypt\u001b[0m\u001b[1;33m(\u001b[0m\u001b[0mencrypted\u001b[0m\u001b[1;33m)\u001b[0m\u001b[1;33m\u001b[0m\u001b[1;33m\u001b[0m\u001b[0m\n\u001b[0m",
      "\u001b[1;32mc:\\Users\\lekha\\Anaconda3\\lib\\site-packages\\Crypto\\Cipher\\PKCS1_OAEP.py\u001b[0m in \u001b[0;36mdecrypt\u001b[1;34m(self, ciphertext)\u001b[0m\n\u001b[0;32m    169\u001b[0m         \u001b[0mct_int\u001b[0m \u001b[1;33m=\u001b[0m \u001b[0mbytes_to_long\u001b[0m\u001b[1;33m(\u001b[0m\u001b[0mciphertext\u001b[0m\u001b[1;33m)\u001b[0m\u001b[1;33m\u001b[0m\u001b[1;33m\u001b[0m\u001b[0m\n\u001b[0;32m    170\u001b[0m         \u001b[1;31m# Step 2b (RSADP)\u001b[0m\u001b[1;33m\u001b[0m\u001b[1;33m\u001b[0m\u001b[1;33m\u001b[0m\u001b[0m\n\u001b[1;32m--> 171\u001b[1;33m         \u001b[0mm_int\u001b[0m \u001b[1;33m=\u001b[0m \u001b[0mself\u001b[0m\u001b[1;33m.\u001b[0m\u001b[0m_key\u001b[0m\u001b[1;33m.\u001b[0m\u001b[0m_decrypt\u001b[0m\u001b[1;33m(\u001b[0m\u001b[0mct_int\u001b[0m\u001b[1;33m)\u001b[0m\u001b[1;33m\u001b[0m\u001b[1;33m\u001b[0m\u001b[0m\n\u001b[0m\u001b[0;32m    172\u001b[0m         \u001b[1;31m# Complete step 2c (I2OSP)\u001b[0m\u001b[1;33m\u001b[0m\u001b[1;33m\u001b[0m\u001b[1;33m\u001b[0m\u001b[0m\n\u001b[0;32m    173\u001b[0m         \u001b[0mem\u001b[0m \u001b[1;33m=\u001b[0m \u001b[0mlong_to_bytes\u001b[0m\u001b[1;33m(\u001b[0m\u001b[0mm_int\u001b[0m\u001b[1;33m,\u001b[0m \u001b[0mk\u001b[0m\u001b[1;33m)\u001b[0m\u001b[1;33m\u001b[0m\u001b[1;33m\u001b[0m\u001b[0m\n",
      "\u001b[1;32mc:\\Users\\lekha\\Anaconda3\\lib\\site-packages\\Crypto\\PublicKey\\RSA.py\u001b[0m in \u001b[0;36m_decrypt\u001b[1;34m(self, ciphertext)\u001b[0m\n\u001b[0;32m    171\u001b[0m         \u001b[1;31m# Verify no faults occurred\u001b[0m\u001b[1;33m\u001b[0m\u001b[1;33m\u001b[0m\u001b[1;33m\u001b[0m\u001b[0m\n\u001b[0;32m    172\u001b[0m         \u001b[1;32mif\u001b[0m \u001b[0mciphertext\u001b[0m \u001b[1;33m!=\u001b[0m \u001b[0mpow\u001b[0m\u001b[1;33m(\u001b[0m\u001b[0mresult\u001b[0m\u001b[1;33m,\u001b[0m \u001b[0mself\u001b[0m\u001b[1;33m.\u001b[0m\u001b[0m_e\u001b[0m\u001b[1;33m,\u001b[0m \u001b[0mself\u001b[0m\u001b[1;33m.\u001b[0m\u001b[0m_n\u001b[0m\u001b[1;33m)\u001b[0m\u001b[1;33m:\u001b[0m\u001b[1;33m\u001b[0m\u001b[1;33m\u001b[0m\u001b[0m\n\u001b[1;32m--> 173\u001b[1;33m             \u001b[1;32mraise\u001b[0m \u001b[0mValueError\u001b[0m\u001b[1;33m(\u001b[0m\u001b[1;34m\"Fault detected in RSA decryption\"\u001b[0m\u001b[1;33m)\u001b[0m\u001b[1;33m\u001b[0m\u001b[1;33m\u001b[0m\u001b[0m\n\u001b[0m\u001b[0;32m    174\u001b[0m         \u001b[1;32mreturn\u001b[0m \u001b[0mresult\u001b[0m\u001b[1;33m\u001b[0m\u001b[1;33m\u001b[0m\u001b[0m\n\u001b[0;32m    175\u001b[0m \u001b[1;33m\u001b[0m\u001b[0m\n",
      "\u001b[1;31mValueError\u001b[0m: Fault detected in RSA decryption"
     ]
    }
   ],
   "source": [
    "#Try out shards\n",
    "shard1 = PKCS1_OAEP.new(shards[0])\n",
    "shard1.decrypt(encrypted)"
   ]
  },
  {
   "cell_type": "code",
   "execution_count": 29,
   "metadata": {},
   "outputs": [
    {
     "data": {
      "text/plain": [
       "b'hey whatssup'"
      ]
     },
     "execution_count": 29,
     "metadata": {},
     "output_type": "execute_result"
    }
   ],
   "source": [
    "#Try out combined key\n",
    "combined_key = PKCS1_OAEP.new(combined)\n",
    "combined_key.decrypt(encrypted)"
   ]
  },
  {
   "cell_type": "code",
   "execution_count": null,
   "metadata": {},
   "outputs": [],
   "source": []
  }
 ],
 "metadata": {
  "kernelspec": {
   "display_name": "Python 3.7.4 ('base')",
   "language": "python",
   "name": "python3"
  },
  "language_info": {
   "codemirror_mode": {
    "name": "ipython",
    "version": 3
   },
   "file_extension": ".py",
   "mimetype": "text/x-python",
   "name": "python",
   "nbconvert_exporter": "python",
   "pygments_lexer": "ipython3",
   "version": "3.7.4"
  },
  "orig_nbformat": 4,
  "vscode": {
   "interpreter": {
    "hash": "563c437eecf6a47e4305ca5d77063edd85448e6c3d63dd5814ca2a09ec1eeaf6"
   }
  }
 },
 "nbformat": 4,
 "nbformat_minor": 2
}
